{
 "cells": [
  {
   "cell_type": "code",
   "execution_count": 1,
   "metadata": {},
   "outputs": [
    {
     "name": "stdout",
     "output_type": "stream",
     "text": [
      "Collecting opencv-python\n",
      "  Downloading opencv_python-4.10.0.84-cp37-abi3-win_amd64.whl.metadata (20 kB)\n",
      "Requirement already satisfied: numpy>=1.21.2 in c:\\users\\haitr\\appdata\\local\\packages\\pythonsoftwarefoundation.python.3.11_qbz5n2kfra8p0\\localcache\\local-packages\\python311\\site-packages (from opencv-python) (1.26.4)\n",
      "Downloading opencv_python-4.10.0.84-cp37-abi3-win_amd64.whl (38.8 MB)\n",
      "   ---------------------------------------- 0.0/38.8 MB ? eta -:--:--\n",
      "   -- ------------------------------------- 2.4/38.8 MB 16.8 MB/s eta 0:00:03\n",
      "   ------------- -------------------------- 12.8/38.8 MB 36.7 MB/s eta 0:00:01\n",
      "   ------------------ --------------------- 18.1/38.8 MB 32.6 MB/s eta 0:00:01\n",
      "   ------------------------ --------------- 23.9/38.8 MB 30.8 MB/s eta 0:00:01\n",
      "   ---------------------------- ----------- 28.0/38.8 MB 28.7 MB/s eta 0:00:01\n",
      "   --------------------------------- ------ 32.2/38.8 MB 26.9 MB/s eta 0:00:01\n",
      "   ------------------------------------- -- 36.4/38.8 MB 25.7 MB/s eta 0:00:01\n",
      "   ---------------------------------------- 38.8/38.8 MB 24.7 MB/s eta 0:00:00\n",
      "Installing collected packages: opencv-python\n",
      "Successfully installed opencv-python-4.10.0.84\n"
     ]
    }
   ],
   "source": [
    "#!pip install opencv-python"
   ]
  },
  {
   "cell_type": "code",
   "execution_count": 8,
   "metadata": {},
   "outputs": [],
   "source": [
    "from PIL import Image\n",
    "import numpy as np\n",
    "import cv2\n",
    "import matplotlib.pyplot as plt\n",
    "from scipy import ndimage"
   ]
  },
  {
   "cell_type": "code",
   "execution_count": 10,
   "metadata": {},
   "outputs": [],
   "source": [
    "def display(title, img):\n",
    "    cv2.imshow(title, img)\n",
    "    # Chờ một khoảng thời gian\n",
    "    cv2.waitKey(10000)\n",
    "    # Đóng window\n",
    "    cv2.destroyWindow(title)"
   ]
  },
  {
   "cell_type": "code",
   "execution_count": 12,
   "metadata": {},
   "outputs": [
    {
     "name": "stdout",
     "output_type": "stream",
     "text": [
      "[[[ 51  16  13]\n",
      "  [ 51  16  13]\n",
      "  [ 51  16  13]\n",
      "  ...\n",
      "  [123  61  53]\n",
      "  [119  54  46]\n",
      "  [148  83  75]]\n",
      "\n",
      " [[ 51  16  13]\n",
      "  [ 51  16  13]\n",
      "  [ 51  16  13]\n",
      "  ...\n",
      "  [120  57  49]\n",
      "  [122  57  49]\n",
      "  [163  98  90]]\n",
      "\n",
      " [[ 51  16  13]\n",
      "  [ 51  16  13]\n",
      "  [ 51  16  13]\n",
      "  ...\n",
      "  [128  63  55]\n",
      "  [120  55  47]\n",
      "  [136  68  61]]\n",
      "\n",
      " ...\n",
      "\n",
      " [[ 73  23  25]\n",
      "  [ 73  23  25]\n",
      "  [ 73  23  25]\n",
      "  ...\n",
      "  [253 245 255]\n",
      "  [253 245 255]\n",
      "  [254 246 255]]\n",
      "\n",
      " [[ 73  23  25]\n",
      "  [ 73  23  25]\n",
      "  [ 73  23  25]\n",
      "  ...\n",
      "  [253 245 255]\n",
      "  [254 246 255]\n",
      "  [254 246 255]]\n",
      "\n",
      " [[ 73  23  25]\n",
      "  [ 73  23  25]\n",
      "  [ 73  23  25]\n",
      "  ...\n",
      "  [254 246 255]\n",
      "  [254 246 255]\n",
      "  [254 246 255]]]\n"
     ]
    }
   ],
   "source": [
    "path= 'E:/TGMT/anh/2.jpg'\n",
    "img = cv2.imread(path)\n",
    "# In thông tin của ảnh\n",
    "print(img)"
   ]
  },
  {
   "cell_type": "code",
   "execution_count": 13,
   "metadata": {},
   "outputs": [],
   "source": [
    "# Hiển thị ảnh\n",
    "cv2.imshow('Window', img)\n",
    "# Chờ một khoảng thời gian\n",
    "cv2.waitKey(10000)\n",
    "# Đóng window\n",
    "cv2.destroyWindow('Window')"
   ]
  },
  {
   "cell_type": "code",
   "execution_count": 14,
   "metadata": {},
   "outputs": [],
   "source": [
    "# Tách màu\n",
    "b, g, r = cv2.split(img)\n",
    "cv2.imshow('Window', img)\n",
    "cv2.imshow('Red', r)\n",
    "cv2.imshow('Green', g)\n",
    "cv2.imshow('Blue', b)\n",
    "\n",
    "# Chờ một khoảng thời gian\n",
    "cv2.waitKey(0)\n",
    "# Đóng window\n",
    "cv2.destroyAllWindows()"
   ]
  },
  {
   "cell_type": "code",
   "execution_count": 15,
   "metadata": {},
   "outputs": [],
   "source": [
    "gray_img = cv2.cvtColor(img, cv2.COLOR_BGR2GRAY)\n",
    "img_2 = cv2.cvtColor(img, cv2.COLOR_BGR2RGB)\n",
    "cv2.imshow('Window', img)\n",
    "cv2.imshow('gray_img', gray_img)\n",
    "cv2.imshow('img_2', img_2)\n",
    "# Chờ một khoảng thời gian\n",
    "cv2.waitKey(0)\n",
    "# Đóng window\n",
    "cv2.destroyAllWindows()"
   ]
  },
  {
   "cell_type": "code",
   "execution_count": 17,
   "metadata": {},
   "outputs": [],
   "source": [
    "# Thay đổi thông số của điểm ảnh\n",
    "height, width, z = img.shape\n",
    "quater_h = height/2\n",
    "quater_w = width/2\n",
    "\n",
    "# geen color\n",
    "green_color = (0,255,0)\n",
    "\n",
    "# copy ảnh\n",
    "img2 = img.copy()\n",
    "\n",
    "# thay đổi màu của góc 1/4 bên trái trên\n",
    "\n",
    "for y in range(int(quater_h)):\n",
    "    for x in range(int(quater_w)):\n",
    "        img2[y, x] = green_color\n",
    "# Hiển thị\n",
    "display('Window', img)\n",
    "display('Window-2', img2)"
   ]
  },
  {
   "cell_type": "code",
   "execution_count": null,
   "metadata": {},
   "outputs": [],
   "source": []
  }
 ],
 "metadata": {
  "kernelspec": {
   "display_name": "Python 3",
   "language": "python",
   "name": "python3"
  },
  "language_info": {
   "codemirror_mode": {
    "name": "ipython",
    "version": 3
   },
   "file_extension": ".py",
   "mimetype": "text/x-python",
   "name": "python",
   "nbconvert_exporter": "python",
   "pygments_lexer": "ipython3",
   "version": "3.11.9"
  }
 },
 "nbformat": 4,
 "nbformat_minor": 2
}
